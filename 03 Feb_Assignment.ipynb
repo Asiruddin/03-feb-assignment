{
 "cells": [
  {
   "cell_type": "code",
   "execution_count": 1,
   "id": "af50ffb1-9284-48bd-a01f-089db37ee37f",
   "metadata": {},
   "outputs": [],
   "source": [
    "#Q1. Which keyword is used to create a function? Create a function to return a list of odd numbers in the\n",
    "# range of 1 to 25."
   ]
  },
  {
   "cell_type": "code",
   "execution_count": 2,
   "id": "adf787c3-901f-4fa5-b6d6-68143e186b8d",
   "metadata": {},
   "outputs": [],
   "source": [
    "# ans- 'def' is used to create a function."
   ]
  },
  {
   "cell_type": "code",
   "execution_count": 11,
   "id": "3f54fc39-04ad-4728-a0ea-72d14569795c",
   "metadata": {},
   "outputs": [],
   "source": [
    "def odd_numbers():\n",
    "    l = []\n",
    "    for i in range(1,26):\n",
    "        if i % 2 !=0:\n",
    "            l.append(i)\n",
    "    return l    "
   ]
  },
  {
   "cell_type": "code",
   "execution_count": 13,
   "id": "c0c2b3f7-a817-43dc-9300-5799e39bc11d",
   "metadata": {},
   "outputs": [
    {
     "data": {
      "text/plain": [
       "[1, 3, 5, 7, 9, 11, 13, 15, 17, 19, 21, 23, 25]"
      ]
     },
     "execution_count": 13,
     "metadata": {},
     "output_type": "execute_result"
    }
   ],
   "source": [
    "odd_numbers()"
   ]
  },
  {
   "cell_type": "code",
   "execution_count": 14,
   "id": "5030af7e-6709-45ad-8ee4-5faa12b45230",
   "metadata": {},
   "outputs": [],
   "source": [
    "# Q2. Why *args and **kwargs is used in some functions? Create a function each for *args and **kwargs\n",
    "# to demonstrate their use.\n",
    "    "
   ]
  },
  {
   "cell_type": "code",
   "execution_count": 15,
   "id": "0eaaec33-a13d-4033-8a7a-7ed7d2744998",
   "metadata": {},
   "outputs": [],
   "source": [
    "#Q2 Ans-*args passes variable number of non-keyworded arguments and on which operation of the tuple can be performed.\n",
    "#**kwargs passes variable number of keyword arguments dictionary to function on which operation of a dictionary can be performed.\n",
    "#*args and **kwargs make the function flexible."
   ]
  },
  {
   "cell_type": "code",
   "execution_count": 16,
   "id": "e1755f38-0670-4601-9240-9df042a87c92",
   "metadata": {},
   "outputs": [],
   "source": [
    "def func_args(*args):\n",
    "    print(\"Arguments passed as variable-length tuple:\", args)\n",
    "\n",
    "def func_kwargs(**kwargs):\n",
    "    print(\"Arguments passed as variable-length dictionary:\", kwargs)"
   ]
  },
  {
   "cell_type": "code",
   "execution_count": 17,
   "id": "0d761962-9a44-4c32-be7e-8f81ece87dad",
   "metadata": {},
   "outputs": [
    {
     "name": "stdout",
     "output_type": "stream",
     "text": [
      "Arguments passed as variable-length tuple: (1, 2, 3)\n"
     ]
    }
   ],
   "source": [
    "func_args(1,2,3)"
   ]
  },
  {
   "cell_type": "code",
   "execution_count": 18,
   "id": "6729fa86-135a-48c4-aa2d-2298fdeb5ae2",
   "metadata": {},
   "outputs": [
    {
     "name": "stdout",
     "output_type": "stream",
     "text": [
      "Arguments passed as variable-length dictionary: {'a': 1, 'b': 2, 'c': 3}\n"
     ]
    }
   ],
   "source": [
    "func_kwargs(a=1,b=2,c=3)"
   ]
  },
  {
   "cell_type": "code",
   "execution_count": 19,
   "id": "3c64e282-5652-4ba4-a587-9883a541d6e1",
   "metadata": {},
   "outputs": [],
   "source": [
    "#Q3. What is an iterator in python?"
   ]
  },
  {
   "cell_type": "code",
   "execution_count": 20,
   "id": "4987805b-6f0d-43f8-a099-624f5912a863",
   "metadata": {},
   "outputs": [],
   "source": [
    "#Q3-Ans-An iterator is an object that contains a countable number of values."
   ]
  },
  {
   "cell_type": "code",
   "execution_count": 21,
   "id": "1b6d182c-17fa-43be-bc33-ad56d289f0bf",
   "metadata": {},
   "outputs": [],
   "source": [
    "#Q3-Name the method used to initialise the iterator object and the method\n",
    "# used for iteration. Use these methods to print the first five elements of the given list [2, 4, 6, 8, 10, 12, 14,\n",
    "# 16, 18, 20]."
   ]
  },
  {
   "cell_type": "code",
   "execution_count": 1,
   "id": "8eca5561-6ac1-4eb7-94fc-219ca0804397",
   "metadata": {},
   "outputs": [
    {
     "name": "stdout",
     "output_type": "stream",
     "text": [
      "2\n",
      "4\n",
      "6\n",
      "8\n",
      "10\n"
     ]
    }
   ],
   "source": [
    "my_list = [2,4,6,8,10,10,14,16,18,20]\n",
    "iterator = iter(my_list)\n",
    "for i in range(1,6) :\n",
    "    print(next(iterator))"
   ]
  },
  {
   "cell_type": "code",
   "execution_count": 2,
   "id": "e27fc171-8999-4cc2-addf-89c76f85a377",
   "metadata": {},
   "outputs": [],
   "source": [
    "#Q4. What is a generator function in python? Why yield keyword is used? Give an example of a generator function."
   ]
  },
  {
   "cell_type": "code",
   "execution_count": 3,
   "id": "8466c369-a35a-42e7-b7eb-0bffb51c4066",
   "metadata": {},
   "outputs": [],
   "source": [
    "#Q4-Ans: A generator function is a special type of function in Python that returns a generator iterator. A generator function is defined like a normal function, but instead of using the return statement to return a value, it uses the yield statement. The yield statement suspends the execution of the generator function and returns a value to the caller, but it saves the state of the function, so that the next time the generator is called, it continues from where it left off."
   ]
  },
  {
   "cell_type": "code",
   "execution_count": 4,
   "id": "cb6ba37c-a5c0-4a03-ac01-4f2901ef830a",
   "metadata": {},
   "outputs": [],
   "source": [
    "# The yield statement is used in a generator function to produce a value that can be iterated over by the caller.\n",
    "# Another benefit of using yield is that it makes it easy to write readable and maintainable code."
   ]
  },
  {
   "cell_type": "code",
   "execution_count": 5,
   "id": "e1e4db18-8d7c-4fbf-ac56-e8691bbbe5c6",
   "metadata": {},
   "outputs": [],
   "source": [
    "#Q6. Write a python program to print the first 10 Fibonacci numbers using a while loop."
   ]
  },
  {
   "cell_type": "code",
   "execution_count": 12,
   "id": "93744170-6fe9-48a1-85b4-3877d232c50b",
   "metadata": {},
   "outputs": [
    {
     "name": "stdout",
     "output_type": "stream",
     "text": [
      "0\n",
      "1\n",
      "1\n",
      "2\n",
      "3\n",
      "5\n",
      "8\n",
      "13\n",
      "21\n",
      "34\n"
     ]
    }
   ],
   "source": [
    "a=0\n",
    "b=1\n",
    "i=1\n",
    "while i <=10 :\n",
    "        print(a)\n",
    "        c = a+b\n",
    "        a=b\n",
    "        b=c\n",
    "        i = i+1"
   ]
  },
  {
   "cell_type": "code",
   "execution_count": 14,
   "id": "db923630-c567-4860-8f25-42378076c0d0",
   "metadata": {},
   "outputs": [],
   "source": [
    "#Q5 Create a generator function for prime numbers less than 1000.Use next() method to print the first 20 prime numbers."
   ]
  },
  {
   "cell_type": "code",
   "execution_count": null,
   "id": "b98e3ff7-d7bd-43b8-80ad-27d0d92603ee",
   "metadata": {},
   "outputs": [],
   "source": [
    "def prime_numbers_less_than_1000() :\n",
    "    for num in range(2,1000) :\n",
    "        \n",
    "    "
   ]
  },
  {
   "cell_type": "code",
   "execution_count": 15,
   "id": "d9e1be55-0441-4f01-bc18-8cfa68ece623",
   "metadata": {},
   "outputs": [],
   "source": [
    "# Q9. Write a code to print odd numbers from 1 to 100 using list comprehension.  "
   ]
  },
  {
   "cell_type": "code",
   "execution_count": 17,
   "id": "109d5fda-de4f-45f8-9375-cbb6d1c6f957",
   "metadata": {},
   "outputs": [
    {
     "data": {
      "text/plain": [
       "[1,\n",
       " 3,\n",
       " 5,\n",
       " 7,\n",
       " 9,\n",
       " 11,\n",
       " 13,\n",
       " 15,\n",
       " 17,\n",
       " 19,\n",
       " 21,\n",
       " 23,\n",
       " 25,\n",
       " 27,\n",
       " 29,\n",
       " 31,\n",
       " 33,\n",
       " 35,\n",
       " 37,\n",
       " 39,\n",
       " 41,\n",
       " 43,\n",
       " 45,\n",
       " 47,\n",
       " 49,\n",
       " 51,\n",
       " 53,\n",
       " 55,\n",
       " 57,\n",
       " 59,\n",
       " 61,\n",
       " 63,\n",
       " 65,\n",
       " 67,\n",
       " 69,\n",
       " 71,\n",
       " 73,\n",
       " 75,\n",
       " 77,\n",
       " 79,\n",
       " 81,\n",
       " 83,\n",
       " 85,\n",
       " 87,\n",
       " 89,\n",
       " 91,\n",
       " 93,\n",
       " 95,\n",
       " 97,\n",
       " 99]"
      ]
     },
     "execution_count": 17,
     "metadata": {},
     "output_type": "execute_result"
    }
   ],
   "source": [
    "[i for i in range(1,100) if i%2 != 0]"
   ]
  },
  {
   "cell_type": "code",
   "execution_count": 18,
   "id": "1100d784-3773-4cf3-a065-196124e304e7",
   "metadata": {},
   "outputs": [],
   "source": [
    "#Q7. Write a List Comprehension to iterate through the given string: ‘pwskills’.\n",
    "#     Expected output: ['p', 'w', 's', 'k', 'i', 'l', 'l', 's']"
   ]
  },
  {
   "cell_type": "code",
   "execution_count": 19,
   "id": "9ca7a9b0-55b9-4b68-824f-4a315a62a8a9",
   "metadata": {},
   "outputs": [],
   "source": [
    "s = 'pwskills'\n"
   ]
  },
  {
   "cell_type": "code",
   "execution_count": 21,
   "id": "e4b96d57-5631-4c52-a92e-e9d57f2661fb",
   "metadata": {},
   "outputs": [
    {
     "data": {
      "text/plain": [
       "['p', 'w', 's', 'k', 'i', 'l', 'l', 's']"
      ]
     },
     "execution_count": 21,
     "metadata": {},
     "output_type": "execute_result"
    }
   ],
   "source": [
    "[l for l in s]"
   ]
  },
  {
   "cell_type": "code",
   "execution_count": null,
   "id": "95df8cc0-ed89-48ec-a197-b7570bcfbaa1",
   "metadata": {},
   "outputs": [],
   "source": []
  }
 ],
 "metadata": {
  "kernelspec": {
   "display_name": "Python 3 (ipykernel)",
   "language": "python",
   "name": "python3"
  },
  "language_info": {
   "codemirror_mode": {
    "name": "ipython",
    "version": 3
   },
   "file_extension": ".py",
   "mimetype": "text/x-python",
   "name": "python",
   "nbconvert_exporter": "python",
   "pygments_lexer": "ipython3",
   "version": "3.10.8"
  }
 },
 "nbformat": 4,
 "nbformat_minor": 5
}
